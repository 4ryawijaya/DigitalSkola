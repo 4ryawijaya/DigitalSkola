{
 "cells": [
  {
   "cell_type": "code",
   "execution_count": 20,
   "metadata": {},
   "outputs": [
    {
     "data": {
      "text/plain": [
       "'\\nNama: I Putu Reynaldy Aryawijaya. \\nTim: Squad Cicak\\n---------------------------------\\nBuatlah Class Lingkaran yang memiliki attribute:\\n- radius \\ndan memiliki behavior:\\n- luas\\n\\nBuatlah Class Tabung yang merupakan child class dari Lingkaran\\nyang memiliki attribute:\\n- tinggi \\ndan memiliki behavior:\\n- volume\\n\\nBuatlah sebuah object lingkaran dan tabung dengan radius 1 dan tinggi 2\\n---------------------------------\\n'"
      ]
     },
     "execution_count": 20,
     "metadata": {},
     "output_type": "execute_result"
    }
   ],
   "source": [
    "\"\"\"\n",
    "Nama: I Putu Reynaldy Aryawijaya. \n",
    "Tim: Squad Cicak\n",
    "---------------------------------\n",
    "Buatlah Class Lingkaran yang memiliki attribute:\n",
    "- radius \n",
    "dan memiliki behavior:\n",
    "- luas\n",
    "\n",
    "Buatlah Class Tabung yang merupakan child class dari Lingkaran\n",
    "yang memiliki attribute:\n",
    "- tinggi \n",
    "dan memiliki behavior:\n",
    "- volume\n",
    "\n",
    "Buatlah sebuah object lingkaran dan tabung dengan radius 1 dan tinggi 2\n",
    "---------------------------------\n",
    "\"\"\""
   ]
  },
  {
   "cell_type": "code",
   "execution_count": 26,
   "metadata": {},
   "outputs": [
    {
     "name": "stdout",
     "output_type": "stream",
     "text": [
      "<__main__.Lingkaran object at 0x00000296BCDFB910>\n",
      "1\n",
      "Luas lingkaran adalah 3\n",
      "Luas lingkaran adalah 1256\n",
      "2\n",
      "12\n"
     ]
    },
    {
     "ename": "TypeError",
     "evalue": "Tabung.volTabung() missing 1 required positional argument: 'volTabung'",
     "output_type": "error",
     "traceback": [
      "\u001b[1;31m---------------------------------------------------------------------------\u001b[0m",
      "\u001b[1;31mTypeError\u001b[0m                                 Traceback (most recent call last)",
      "\u001b[1;32mc:\\Users\\I Putu Reynaldy A\\Documents\\Python\\08_DigitalSkola\\HW.ipynb Cell 2'\u001b[0m in \u001b[0;36m<cell line: 32>\u001b[1;34m()\u001b[0m\n\u001b[0;32m     <a href='vscode-notebook-cell:/c%3A/Users/I%20Putu%20Reynaldy%20A/Documents/Python/08_DigitalSkola/HW.ipynb#ch0000001?line=29'>30</a>\u001b[0m \u001b[39mprint\u001b[39m(tabung1\u001b[39m.\u001b[39mtinggi)\n\u001b[0;32m     <a href='vscode-notebook-cell:/c%3A/Users/I%20Putu%20Reynaldy%20A/Documents/Python/08_DigitalSkola/HW.ipynb#ch0000001?line=30'>31</a>\u001b[0m \u001b[39mprint\u001b[39m(tabung2\u001b[39m.\u001b[39mtinggi)\n\u001b[1;32m---> <a href='vscode-notebook-cell:/c%3A/Users/I%20Putu%20Reynaldy%20A/Documents/Python/08_DigitalSkola/HW.ipynb#ch0000001?line=31'>32</a>\u001b[0m \u001b[39mprint\u001b[39m(tabung1\u001b[39m.\u001b[39;49mvolTabung())\n\u001b[0;32m     <a href='vscode-notebook-cell:/c%3A/Users/I%20Putu%20Reynaldy%20A/Documents/Python/08_DigitalSkola/HW.ipynb#ch0000001?line=32'>33</a>\u001b[0m \u001b[39mprint\u001b[39m(tabung2\u001b[39m.\u001b[39mvolTabung())\n",
      "\u001b[1;31mTypeError\u001b[0m: Tabung.volTabung() missing 1 required positional argument: 'volTabung'"
     ]
    }
   ],
   "source": [
    "class Lingkaran:\n",
    "    PI = 3.14\n",
    "\n",
    "    def __init__(self, radius):\n",
    "        self.radius = radius\n",
    "    \n",
    "    def luasLingkaran(self):\n",
    "        luasLingkaran = int(self.radius ** 2 * Lingkaran.PI)\n",
    "        return(f\"Luas lingkaran adalah {luasLingkaran}\")\n",
    "\n",
    "lingkaran1 = Lingkaran(1)\n",
    "lingkaran2 = Lingkaran(20)\n",
    "\n",
    "print(lingkaran1)\n",
    "print(lingkaran1.radius)\n",
    "print(lingkaran1.luasLingkaran())\n",
    "print(lingkaran2.luasLingkaran())\n",
    "\n",
    "class Tabung(Lingkaran):\n",
    "    def __init__(self, tinggi):\n",
    "        self.tinggi = tinggi\n",
    "\n",
    "    def volTabung(self, volTabung):\n",
    "        self.volTabung = int(self.tinggi * Lingkaran.PI * ) \n",
    "        return(f\"Volume tabung adalah {volTabung}\")\n",
    "\n",
    "tabung1 = Tabung(2)\n",
    "tabung2 = Tabung(12)\n",
    "\n",
    "print(tabung1.tinggi)\n",
    "print(tabung2.tinggi)\n",
    "# print(tabung1.volTabung())\n",
    "# print(tabung2.volTabung())"
   ]
  }
 ],
 "metadata": {
  "interpreter": {
   "hash": "f88c1ff197da1ca80def38bdda6597bd8a92851e69fe4210a31d9c6adbba750b"
  },
  "kernelspec": {
   "display_name": "Python 3.10.4 64-bit",
   "language": "python",
   "name": "python3"
  },
  "language_info": {
   "codemirror_mode": {
    "name": "ipython",
    "version": 3
   },
   "file_extension": ".py",
   "mimetype": "text/x-python",
   "name": "python",
   "nbconvert_exporter": "python",
   "pygments_lexer": "ipython3",
   "version": "3.10.4"
  },
  "orig_nbformat": 4
 },
 "nbformat": 4,
 "nbformat_minor": 2
}
