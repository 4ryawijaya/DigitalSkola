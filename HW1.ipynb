{
 "cells": [
  {
   "cell_type": "code",
   "execution_count": 20,
   "metadata": {},
   "outputs": [
    {
     "data": {
      "text/plain": [
       "'\\nNama: I Putu Reynaldy Aryawijaya. \\nTim: Squad Cicak\\n---------------------------------\\nBuatlah Class Lingkaran yang memiliki attribute:\\n- radius \\ndan memiliki behavior:\\n- luas\\n\\nBuatlah Class Tabung yang merupakan child class dari Lingkaran\\nyang memiliki attribute:\\n- tinggi \\ndan memiliki behavior:\\n- volume\\n\\nBuatlah sebuah object lingkaran dan tabung dengan radius 1 dan tinggi 2\\n---------------------------------\\n'"
      ]
     },
     "execution_count": 20,
     "metadata": {},
     "output_type": "execute_result"
    }
   ],
   "source": [
    "\"\"\"\n",
    "Nama: I Putu Reynaldy Aryawijaya. \n",
    "Tim: Squad Cicak\n",
    "---------------------------------\n",
    "Buatlah Class Lingkaran yang memiliki attribute:\n",
    "- radius \n",
    "dan memiliki behavior:\n",
    "- luas\n",
    "\n",
    "Buatlah Class Tabung yang merupakan child class dari Lingkaran\n",
    "yang memiliki attribute:\n",
    "- tinggi \n",
    "dan memiliki behavior:\n",
    "- volume\n",
    "\n",
    "Buatlah sebuah object lingkaran dan tabung dengan radius 1 dan tinggi 2\n",
    "---------------------------------\n",
    "\"\"\""
   ]
  },
  {
   "cell_type": "code",
   "execution_count": 5,
   "metadata": {},
   "outputs": [
    {
     "name": "stdout",
     "output_type": "stream",
     "text": [
      "1\n",
      "Luas lingkaran adalah 3.14\n",
      "2\n",
      "12\n",
      "Volume tabung adalah 6.28\n",
      "Volume tabung adalah 15072.0\n"
     ]
    }
   ],
   "source": [
    "class Lingkaran:\n",
    "    PI = 3.14\n",
    "\n",
    "    def __init__(self, radius):\n",
    "        self.radius = radius\n",
    "    \n",
    "    def luasLingkaran(self):\n",
    "        luasLingkaran = float(self.radius ** 2 * Lingkaran.PI)\n",
    "        return(f\"Luas lingkaran adalah {luasLingkaran}\")\n",
    "\n",
    "lingkaran1 = Lingkaran(1)\n",
    "lingkaran2 = Lingkaran(20)\n",
    "\n",
    "print(lingkaran1.radius)\n",
    "print(lingkaran1.luasLingkaran())\n",
    "\n",
    "class Tabung(Lingkaran):\n",
    "    def __init__(self, radius, tinggi):\n",
    "        super().__init__(radius) #mengambil akses radius dari parent lingkaran\n",
    "        self.tinggi = tinggi \n",
    "\n",
    "    def volTabung(self):\n",
    "        volTabung = float(self.tinggi * Lingkaran.PI * self.radius ** 2) \n",
    "        return(f\"Volume tabung adalah {volTabung}\")\n",
    "\n",
    "tabung1 = Tabung(1, 2)\n",
    "tabung2 = Tabung(20,12)\n",
    "\n",
    "print(tabung1.tinggi)\n",
    "print(tabung2.tinggi)\n",
    "print(tabung1.volTabung())\n",
    "print(tabung2.volTabung())"
   ]
  }
 ],
 "metadata": {
  "interpreter": {
   "hash": "f88c1ff197da1ca80def38bdda6597bd8a92851e69fe4210a31d9c6adbba750b"
  },
  "kernelspec": {
   "display_name": "Python 3.10.4 64-bit",
   "language": "python",
   "name": "python3"
  },
  "language_info": {
   "codemirror_mode": {
    "name": "ipython",
    "version": 3
   },
   "file_extension": ".py",
   "mimetype": "text/x-python",
   "name": "python",
   "nbconvert_exporter": "python",
   "pygments_lexer": "ipython3",
   "version": "3.10.4"
  },
  "orig_nbformat": 4
 },
 "nbformat": 4,
 "nbformat_minor": 2
}
